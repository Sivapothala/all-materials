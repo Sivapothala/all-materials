{
 "cells": [
  {
   "cell_type": "markdown",
   "metadata": {},
   "source": [
    "###\n",
    "- convert the data into meaningful vectors.\n",
    "- Roadmap\n",
    "    \n",
    "    - Text Preprocessing step-1   \n",
    "        - Tokenization: Split the text into individual words or tokens.\n",
    "        - Stopword removal: Remove common words like \"the,\" \"and,\" etc. that do\n",
    "            not add much value to the meaning of the text.\n",
    "        - Stemming or Lemmatization: Reduce words to their base or root form.\n",
    "    - text preprocesing step -2\n",
    "        - Vectorization\n",
    "            - bow,tfidf,unigram,n-gram\n",
    "            - Convert text data into numerical vectors that can be processed by\n",
    "            machine learning algorithms.\n",
    "    - text preprocessing step -3\n",
    "        - word2vec\n",
    "        - avgword2vec\n",
    "    - text preprocessing step -4\n",
    "        - RNN, LSTM RNN,GRU RNN\n",
    "    - text preprocessing step -5\n",
    "        - word embedding\n",
    "    - step -6\n",
    "        - transformer\n",
    "    - step -7\n",
    "        - BERT\n",
    "\n"
   ]
  },
  {
   "cell_type": "markdown",
   "metadata": {},
   "source": [
    "### use cases for NLP\n",
    "- Auto correction\n",
    "- Sentiment analysis\n",
    "- text suggestion\n",
    "- automatic suggestions\n",
    "- google translate\n",
    "- see translation\n"
   ]
  },
  {
   "cell_type": "markdown",
   "metadata": {},
   "source": [
    "### Tokenization in NLP\n",
    "\n",
    "Tokenization is a fundamental process in NLP that involves breaking down text into individual words or tokens.\n",
    "- corpus\n",
    "    - paragraph\n",
    "- Documents\n",
    "    - sentences\n",
    "- vocabulary\n",
    "    - unique words\n",
    "- Words\n",
    "    - all words\n",
    "\n",
    "\n",
    "corpus => sentences => words => vocabulary\n",
    "\n"
   ]
  },
  {
   "cell_type": "markdown",
   "metadata": {},
   "source": [
    "### TOkenization practicals\n",
    "- useful libraries\n",
    "    - nltk\n",
    "    - spacy\n"
   ]
  },
  {
   "cell_type": "code",
   "execution_count": 18,
   "metadata": {},
   "outputs": [],
   "source": [
    "corpus = \"\"\"\n",
    "Hello world...! i am a python's developer. currently working in evoke technologies.\n",
    "trying to do best in machine learning and artificial intelligence.\n",
    "learning different technologies.\n",
    "\"\"\""
   ]
  },
  {
   "cell_type": "code",
   "execution_count": 5,
   "metadata": {},
   "outputs": [
    {
     "name": "stdout",
     "output_type": "stream",
     "text": [
      "\n",
      "Hello world...! i am a python developer.currently working in evoke technologies.\n",
      "trying to do best in machine learning and artificial intelligence.\n",
      "learning different technologies.\n",
      "\n"
     ]
    }
   ],
   "source": [
    "print(corpus)"
   ]
  },
  {
   "cell_type": "code",
   "execution_count": 8,
   "metadata": {},
   "outputs": [
    {
     "name": "stderr",
     "output_type": "stream",
     "text": [
      "[nltk_data] Downloading package punkt to\n",
      "[nltk_data]     C:\\Users\\IsmartSiva\\AppData\\Roaming\\nltk_data...\n",
      "[nltk_data]   Package punkt is already up-to-date!\n",
      "[nltk_data] Downloading package punkt_tab to\n",
      "[nltk_data]     C:\\Users\\IsmartSiva\\AppData\\Roaming\\nltk_data...\n",
      "[nltk_data]   Unzipping tokenizers\\punkt_tab.zip.\n",
      "[nltk_data] Downloading package wordnet to\n",
      "[nltk_data]     C:\\Users\\IsmartSiva\\AppData\\Roaming\\nltk_data...\n",
      "[nltk_data]   Package wordnet is already up-to-date!\n",
      "[nltk_data] Downloading package omw-1.4 to\n",
      "[nltk_data]     C:\\Users\\IsmartSiva\\AppData\\Roaming\\nltk_data...\n",
      "[nltk_data]   Package omw-1.4 is already up-to-date!\n"
     ]
    },
    {
     "data": {
      "text/plain": [
       "True"
      ]
     },
     "execution_count": 8,
     "metadata": {},
     "output_type": "execute_result"
    }
   ],
   "source": [
    "import nltk\n",
    "nltk.download('punkt')\n",
    "nltk.download('punkt_tab')\n",
    "nltk.download('wordnet')\n",
    "nltk.download('omw-1.4')"
   ]
  },
  {
   "cell_type": "code",
   "execution_count": 10,
   "metadata": {},
   "outputs": [],
   "source": [
    "# Tokenization\n",
    "## sentence < -- paragraphs\n",
    "from nltk.tokenize import sent_tokenize\n",
    "documents = sent_tokenize(corpus)"
   ]
  },
  {
   "cell_type": "code",
   "execution_count": 11,
   "metadata": {},
   "outputs": [
    {
     "data": {
      "text/plain": [
       "list"
      ]
     },
     "execution_count": 11,
     "metadata": {},
     "output_type": "execute_result"
    }
   ],
   "source": [
    "type(documents)"
   ]
  },
  {
   "cell_type": "code",
   "execution_count": 19,
   "metadata": {},
   "outputs": [],
   "source": [
    "### paragraphs => words\n",
    "from nltk.tokenize import word_tokenize\n",
    "words = word_tokenize(corpus)"
   ]
  },
  {
   "cell_type": "code",
   "execution_count": 20,
   "metadata": {},
   "outputs": [
    {
     "data": {
      "text/plain": [
       "['Hello',\n",
       " 'world',\n",
       " '...',\n",
       " '!',\n",
       " 'i',\n",
       " 'am',\n",
       " 'a',\n",
       " 'python',\n",
       " \"'s\",\n",
       " 'developer',\n",
       " '.',\n",
       " 'currently',\n",
       " 'working',\n",
       " 'in',\n",
       " 'evoke',\n",
       " 'technologies',\n",
       " '.',\n",
       " 'trying',\n",
       " 'to',\n",
       " 'do',\n",
       " 'best',\n",
       " 'in',\n",
       " 'machine',\n",
       " 'learning',\n",
       " 'and',\n",
       " 'artificial',\n",
       " 'intelligence',\n",
       " '.',\n",
       " 'learning',\n",
       " 'different',\n",
       " 'technologies',\n",
       " '.']"
      ]
     },
     "execution_count": 20,
     "metadata": {},
     "output_type": "execute_result"
    }
   ],
   "source": [
    "words"
   ]
  },
  {
   "cell_type": "code",
   "execution_count": 21,
   "metadata": {},
   "outputs": [],
   "source": [
    "from nltk.tokenize import wordpunct_tokenize"
   ]
  },
  {
   "cell_type": "code",
   "execution_count": 23,
   "metadata": {},
   "outputs": [
    {
     "data": {
      "text/plain": [
       "['Hello',\n",
       " 'world',\n",
       " '...!',\n",
       " 'i',\n",
       " 'am',\n",
       " 'a',\n",
       " 'python',\n",
       " \"'\",\n",
       " 's',\n",
       " 'developer',\n",
       " '.',\n",
       " 'currently',\n",
       " 'working',\n",
       " 'in',\n",
       " 'evoke',\n",
       " 'technologies',\n",
       " '.',\n",
       " 'trying',\n",
       " 'to',\n",
       " 'do',\n",
       " 'best',\n",
       " 'in',\n",
       " 'machine',\n",
       " 'learning',\n",
       " 'and',\n",
       " 'artificial',\n",
       " 'intelligence',\n",
       " '.',\n",
       " 'learning',\n",
       " 'different',\n",
       " 'technologies',\n",
       " '.']"
      ]
     },
     "execution_count": 23,
     "metadata": {},
     "output_type": "execute_result"
    }
   ],
   "source": [
    "wordpunct_tokenize(corpus)"
   ]
  },
  {
   "cell_type": "code",
   "execution_count": 24,
   "metadata": {},
   "outputs": [],
   "source": [
    "from nltk.tokenize import TreebankWordDetokenizer"
   ]
  },
  {
   "cell_type": "code",
   "execution_count": 30,
   "metadata": {},
   "outputs": [],
   "source": [
    "tok = TreebankWordDetokenizer()\n"
   ]
  },
  {
   "cell_type": "code",
   "execution_count": 31,
   "metadata": {},
   "outputs": [
    {
     "data": {
      "text/plain": [
       "\"H e l l o   w o r l d . . .!   i   a m   a   p y t h o n' s   d e v e l o p e r .   c u r r e n t l y   w o r k i n g   i n   e v o k e   t e c h n o l o g i e s . \\n t r y i n g   t o   d o   b e s t   i n   m a c h i n e   l e a r n i n g   a n d   a r t i f i c i a l   i n t e l l i g e n c e . \\n l e a r n i n g   d i f f e r e n t   t e c h n o l o g i e s.\""
      ]
     },
     "execution_count": 31,
     "metadata": {},
     "output_type": "execute_result"
    }
   ],
   "source": [
    "tok.tokenize(corpus)"
   ]
  }
 ],
 "metadata": {
  "kernelspec": {
   "display_name": "krishenv",
   "language": "python",
   "name": "python3"
  },
  "language_info": {
   "codemirror_mode": {
    "name": "ipython",
    "version": 3
   },
   "file_extension": ".py",
   "mimetype": "text/x-python",
   "name": "python",
   "nbconvert_exporter": "python",
   "pygments_lexer": "ipython3",
   "version": "3.12.0"
  }
 },
 "nbformat": 4,
 "nbformat_minor": 2
}
