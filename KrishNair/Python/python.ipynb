{
 "cells": [
  {
   "cell_type": "code",
   "execution_count": 2,
   "metadata": {},
   "outputs": [
    {
     "name": "stdout",
     "output_type": "stream",
     "text": [
      "<class '__main__.Car'>\n",
      "<__main__.Car object at 0x00000291DAC337D0>\n"
     ]
    }
   ],
   "source": [
    "#Classes\n",
    "# a class is a blue print for creating objects. Attributes, methods.\n",
    "class Car:\n",
    "    pass\n",
    "\n",
    "Audi = Car()\n",
    "bmw = Car()\n",
    "\n",
    "print(type(Audi))\n",
    "print(Audi)"
   ]
  },
  {
   "cell_type": "code",
   "execution_count": 9,
   "metadata": {},
   "outputs": [],
   "source": [
    "def generator():\n",
    "    for i in range(3):\n",
    "        print(\"yielded\")\n",
    "        yield i\n",
    "    "
   ]
  },
  {
   "cell_type": "code",
   "execution_count": 11,
   "metadata": {},
   "outputs": [
    {
     "name": "stdout",
     "output_type": "stream",
     "text": [
      "yielded\n",
      "in loop\n",
      "0\n",
      "yielded\n",
      "in loop\n",
      "1\n",
      "yielded\n",
      "in loop\n",
      "2\n"
     ]
    }
   ],
   "source": [
    "for i in generator():\n",
    "    print(\"in loop\")\n",
    "    print(i)\n",
    "\n",
    "#  in this it will go to function yield the value and return the value and again call the function.\n"
   ]
  },
  {
   "cell_type": "code",
   "execution_count": null,
   "metadata": {},
   "outputs": [],
   "source": [
    "def main(func):\n",
    "    def inside():\n",
    "        print(\"hello\")\n",
    "        func(main)\n",
    "        print(\"hi\")\n",
    "    return inside()\n",
    "main(main)"
   ]
  },
  {
   "cell_type": "code",
   "execution_count": 30,
   "metadata": {},
   "outputs": [],
   "source": [
    "#decorators\n",
    "def main(func):\n",
    "    print(\"this is main method\")\n",
    "    func()"
   ]
  },
  {
   "cell_type": "code",
   "execution_count": 31,
   "metadata": {},
   "outputs": [
    {
     "name": "stdout",
     "output_type": "stream",
     "text": [
      "this is main method\n",
      "hi i am siva\n"
     ]
    }
   ],
   "source": [
    "@main\n",
    "def siva():\n",
    "    print(\"hi i am siva\")"
   ]
  },
  {
   "cell_type": "code",
   "execution_count": 32,
   "metadata": {},
   "outputs": [],
   "source": [
    "def decor(func):\n",
    "    def wrapper():\n",
    "        print(\"hello\")\n",
    "        func()\n",
    "    return wrapper"
   ]
  },
  {
   "cell_type": "code",
   "execution_count": 33,
   "metadata": {},
   "outputs": [],
   "source": [
    "@decor\n",
    "def say():\n",
    "    print(\"say it\")"
   ]
  },
  {
   "cell_type": "code",
   "execution_count": 34,
   "metadata": {},
   "outputs": [
    {
     "name": "stdout",
     "output_type": "stream",
     "text": [
      "hello\n",
      "say it\n"
     ]
    }
   ],
   "source": [
    "say()"
   ]
  }
 ],
 "metadata": {
  "kernelspec": {
   "display_name": "base",
   "language": "python",
   "name": "python3"
  },
  "language_info": {
   "codemirror_mode": {
    "name": "ipython",
    "version": 3
   },
   "file_extension": ".py",
   "mimetype": "text/x-python",
   "name": "python",
   "nbconvert_exporter": "python",
   "pygments_lexer": "ipython3",
   "version": "3.12.1"
  }
 },
 "nbformat": 4,
 "nbformat_minor": 2
}
