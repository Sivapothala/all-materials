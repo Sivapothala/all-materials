{
 "cells": [
  {
   "cell_type": "markdown",
   "metadata": {},
   "source": [
    "### Program\n",
    " - a program is a sequence of instructions written in programming language .\n",
    "\n",
    "### Process\n",
    "- a process is an instance of program that is being executed."
   ]
  },
  {
   "cell_type": "markdown",
   "metadata": {},
   "source": [
    "#### Thread :\n",
    "thread is a unit of execution within the process\n",
    "\n",
    "- single threaded \n",
    "- multi threaded"
   ]
  },
  {
   "cell_type": "markdown",
   "metadata": {},
   "source": [
    "### Multi threading"
   ]
  },
  {
   "cell_type": "markdown",
   "metadata": {},
   "source": [
    "threads can be used \n",
    "- for i/o bound tasks that spend more time waiting for I/O operations \n",
    "- concurrent execution: when you want to improve throughput of your application by performing operations concurrently.\n"
   ]
  },
  {
   "cell_type": "code",
   "execution_count": 7,
   "metadata": {},
   "outputs": [],
   "source": [
    "import threading\n",
    "import time\n",
    "\n",
    "def printnumbers():\n",
    "    for i in range(5):\n",
    "        time.sleep(2)\n",
    "        print(f\"Number : {i}\")\n",
    "    \n",
    "def print_letters():\n",
    "    for i in 'abcdef':\n",
    "        time.sleep(2)\n",
    "        print(f\"letters : {i}\")\n"
   ]
  },
  {
   "cell_type": "code",
   "execution_count": 8,
   "metadata": {},
   "outputs": [
    {
     "name": "stdout",
     "output_type": "stream",
     "text": [
      "Number : 0\n",
      "Number : 1\n",
      "Number : 2\n",
      "Number : 3\n",
      "Number : 4\n",
      "letters : a\n",
      "letters : b\n",
      "letters : c\n",
      "letters : d\n",
      "letters : e\n",
      "letters : f\n"
     ]
    },
    {
     "data": {
      "text/plain": [
       "22.011773586273193"
      ]
     },
     "execution_count": 8,
     "metadata": {},
     "output_type": "execute_result"
    }
   ],
   "source": [
    "t=time.time()\n",
    "printnumbers()\n",
    "print_letters()\n",
    "finshtime = time.time() - t\n",
    "finshtime"
   ]
  },
  {
   "cell_type": "code",
   "execution_count": 11,
   "metadata": {},
   "outputs": [
    {
     "name": "stdout",
     "output_type": "stream",
     "text": [
      "Number : 0\n",
      "letters : a\n",
      "Number : 1\n",
      "letters : b\n",
      "Number : 2\n",
      "letters : c\n",
      "Number : 3letters : d\n",
      "\n",
      "letters : eNumber : 4\n",
      "\n",
      "letters : f\n",
      "12.014896392822266\n"
     ]
    }
   ],
   "source": [
    "## Create 2 threads\n",
    "t1 = threading.Thread(target=printnumbers)\n",
    "t2 = threading.Thread(target=print_letters)\n",
    "\n",
    "t=time.time()\n",
    "t1.start()\n",
    "t2.start()\n",
    "\n",
    "##wait for the threads to join\n",
    "t1.join()\n",
    "t2.join()\n",
    "fintime = time.time() - t\n",
    "print(fintime)"
   ]
  },
  {
   "cell_type": "markdown",
   "metadata": {},
   "source": [
    "#### Multi-Processing\n",
    "\n",
    "- Process that runs in parallel\n",
    "- CPU Bound Task - Tasks that are heavy on CPU usage (e.g mathamatical computations)\n",
    "- parallel execution - Multiple cores of the CPU "
   ]
  },
  {
   "cell_type": "code",
   "execution_count": 15,
   "metadata": {},
   "outputs": [],
   "source": [
    "import multiprocessing\n",
    "import time\n",
    "\n",
    "def square_numbers():\n",
    "    for i in range(5):\n",
    "        time.sleep(1)\n",
    "        print(f\"Square : {i*i}\")\n",
    "\n",
    "def Cube_numbers():\n",
    "    for i in range(5):\n",
    "        time.sleep(1.5)\n",
    "        print(f\"Cube : {i*i*i}\")\n",
    "\n",
    "## Create 2 processes\n",
    "if __name__ == \"__main__\":\n",
    "    p1 = multiprocessing.Process(target=square_numbers)\n",
    "    p2 = multiprocessing.Process(target=Cube_numbers)\n",
    "    t = time.time()\n",
    "    ## Start the Process\n",
    "\n",
    "    p1.start()\n",
    "    p2.start()\n",
    "\n",
    "    ##wait for the process\n",
    "    p1.join()\n",
    "    p2.join()\n",
    "\n",
    "    finstime = time.time() -t\n",
    "# finstime"
   ]
  }
 ],
 "metadata": {
  "kernelspec": {
   "display_name": "krishenv",
   "language": "python",
   "name": "python3"
  },
  "language_info": {
   "codemirror_mode": {
    "name": "ipython",
    "version": 3
   },
   "file_extension": ".py",
   "mimetype": "text/x-python",
   "name": "python",
   "nbconvert_exporter": "python",
   "pygments_lexer": "ipython3",
   "version": "3.12.0"
  }
 },
 "nbformat": 4,
 "nbformat_minor": 2
}
