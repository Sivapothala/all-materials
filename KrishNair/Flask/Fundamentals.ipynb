{
 "cells": [
  {
   "cell_type": "markdown",
   "metadata": {},
   "source": [
    "Flask a web framework which is created with the python programming language\n",
    "\n",
    "WSGI -> web server gateway interface\n",
    "\n",
    "Flask : wsgi protocol is used to communicate between the web server and web app deployed\n",
    "\n",
    "jinja 2 template engine\n",
    " - combines web template with data source.\n",
    " - layout of a page to data sources.\n",
    " - creating dynamic web pages.\n",
    "\n",
    "\n"
   ]
  }
 ],
 "metadata": {
  "language_info": {
   "name": "python"
  }
 },
 "nbformat": 4,
 "nbformat_minor": 2
}
