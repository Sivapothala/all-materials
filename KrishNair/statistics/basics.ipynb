{
 "cells": [
  {
   "cell_type": "markdown",
   "metadata": {},
   "source": [
    "- Statistics is a field that deals with collection, organization, analysis, interpretation and presentation of the data.\n",
    "\n",
    "Statistics :\n",
    "- deccriptive\n",
    "    - consisting of organizing and summerizing the data.\n",
    "        - measure of central tendency    \n",
    "            - mean\n",
    "            - median\n",
    "            - mode\n",
    "        - measure of dispersion\n",
    "            - variance\n",
    "            - standard deviation\n",
    "- inferential\n",
    "    - collect data (sample data )\n",
    "    - making conclusions/ inferences using some expermental testings.\n",
    "    - making conclusion on other data i.e, population\n",
    "        - population > sample \n",
    "    "
   ]
  },
  {
   "cell_type": "markdown",
   "metadata": {
    "vscode": {
     "languageId": "plaintext"
    }
   },
   "source": [
    "example : \n",
    " total students in a college : 1000\n",
    "\n",
    "for a class : 100\n",
    "\n",
    "descriptive : finds the mean , median, mode of a class\n",
    "\n",
    "inferential : find mean of 1000 students using one class data.\n",
    "\n",
    "Notation for population : N\n",
    "\n",
    "Notation for sample : n\n"
   ]
  },
  {
   "cell_type": "markdown",
   "metadata": {
    "vscode": {
     "languageId": "plaintext"
    }
   },
   "source": [
    "### Despersion\n",
    "\n",
    "\n",
    "data1 = [2,2,4,4]\n",
    "dat2 = [1,1,5,5]\n",
    "\n",
    "mean of data1 = 3 \n",
    "mean of data2 = 3\n",
    "\n",
    "but how can we diffrentiate the data\n",
    "using variance howmuch data is spread from the mean.\n",
    "\n",
    "for variance of population :\n",
    "(xi - µ)^2/N\n",
    "\n",
    "for sample\n",
    "s^2 = (xi-xbar)^2/n-1\n",
    "\n",
    "why n-1 ?\n",
    "\n",
    "baysal correction to avoid sample mean <<< population and sample variance <<< population variance"
   ]
  },
  {
   "cell_type": "markdown",
   "metadata": {},
   "source": [
    "### Variables\n",
    "\n",
    "Variable - is a property that can take any value.\n",
    "types of variables :\n",
    "\n",
    "- quantitative\n",
    "    - discrete\n",
    "        - eg: no of children a couple have : (whole Numbers)\n",
    "    - continuous  \n",
    "        - eg : height of person : 175.5cm (fractional numbers)\n",
    "\n",
    "- qualitative/categorical \n",
    "    - eg : gender : male/female\n",
    "    - eg : color : red/blue/green\n",
    "    "
   ]
  },
  {
   "cell_type": "markdown",
   "metadata": {
    "vscode": {
     "languageId": "plaintext"
    }
   },
   "source": [
    "### Random Variables\n",
    "\n",
    "- Denoted by X\n",
    "- is a function which values defines its values through process or experiment\n",
    "- e.g : tossing a coin.\n",
    "- X is a random variable if it is a function from the sample space to the real numbers.\n",
    "- X is a discrete random variable if it takes on a finite or countable number of values.\n",
    "- X is a continuous random variable if it takes on an uncountable number of values.\n",
    "    - tomorrow howmany inches of rain that can occur.\n"
   ]
  },
  {
   "cell_type": "markdown",
   "metadata": {
    "vscode": {
     "languageId": "plaintext"
    }
   },
   "source": [
    "#### Histograms\n",
    "\n",
    "- histogram from a single dimension point, counting the frequency based on bins.\n",
    "- frequency on y-axis and bins on x-axis\n",
    "- bins are the intervals of the data\n",
    "- smoothening this histogram gives the probability distribution function.\n"
   ]
  },
  {
   "cell_type": "markdown",
   "metadata": {},
   "source": [
    "### Percentiles and Quartiles \n",
    "percentage = {1,2,3,4,5,6}\n",
    "no of odds = 3\n",
    "% of odds = 3/6*100 = 50%\n",
    "\n",
    "- a percentile is a value below which certain percentage of observation lie.\n",
    "l = {2,2,3,4,5,5,6,7,8,8,8,9,9,10}\n",
    "\n",
    "percentile of 9 = # n of values below 9 /sample size *100\n",
    "= 11/14 *100 = 78.57% of value 9 -> percentile ranking\n",
    "\n",
    "- finding 25 percentile of the list\n",
    "- value = (percentile/100)*(n+1)\n",
    "- 25 percentile = (25/100)*(14+1) = 3.75 position\n",
    "- there is no value of 3.75th position in distributon \n",
    "- taking the 3rd, 4th values and average -> 3.5\n",
    "\n",
    "### Quartiles\n",
    "- 25% - first quartile\n",
    "- 50% - second Quartile\n",
    "- 75% - third Quartile\n"
   ]
  },
  {
   "cell_type": "markdown",
   "metadata": {},
   "source": [
    "#### 5 Number Summary\n",
    "\n",
    "- Minimum\n",
    "- 1st Quartile\n",
    "- Median\n",
    "- 3rd Quartile\n",
    "- Maximum\n",
    "\n",
    "- how to consider a Outlier\n",
    "    - define lower and higer fence\n",
    "    - lower Fench = q1 - 1.5IQR\n",
    "    - higher Fench = q3 + 1.5IQR\n",
    "    - anything outside the lower and higher fench is an outlier.\n",
    "q1 = o.25 * (n+1)\n",
    "\n",
    "#### Box Plot is Used to visualize the Outliers"
   ]
  },
  {
   "cell_type": "markdown",
   "metadata": {
    "vscode": {
     "languageId": "plaintext"
    }
   },
   "source": [
    "####  Probability\n",
    "\n",
    "- Probability\n",
    "    - determine the likelyhood of an event\n",
    "    - the probability of an event is a number between 0 and 1\n",
    "    - eg : tossing a coin\n",
    "    - probability of head : 1/2\n",
    "- Mutually Exclusive events\n",
    "    - two events can not occur at same time.\n",
    "    - eg : tossing a coin and rolling a dice .\n",
    "    - pr(h or t) = pr(h) + pr(t) -> additive rule\n",
    "- Non - mutual exclusive event\n",
    "    - two events can occur at same time.\n",
    "    - taking a card from the deck which is king of heart\n",
    "    - pr(k or h) = pr(k) + pr(h) - pr(k and h)\n",
    "    \n",
    "- Multiplication Rule\n",
    "    -  Independent Events\n",
    "        - two events if they do not affect one another\n",
    "        - eg : tossing a coin first head and then tail\n",
    "        -  pr(A and B) = pr(A) * pr(B)\n",
    "    - Dependent events\n",
    "        - two events if they affect one another\n",
    "        - eg : taking a king card and then queen card\n",
    "        - pr(k and Q) = p(k) * pr(Q/k)\n",
    "        "
   ]
  },
  {
   "cell_type": "markdown",
   "metadata": {},
   "source": []
  }
 ],
 "metadata": {
  "language_info": {
   "name": "python"
  }
 },
 "nbformat": 4,
 "nbformat_minor": 2
}
