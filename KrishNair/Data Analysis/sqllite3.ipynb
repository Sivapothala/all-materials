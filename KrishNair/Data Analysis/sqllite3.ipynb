{
 "cells": [
  {
   "cell_type": "code",
   "execution_count": 1,
   "metadata": {},
   "outputs": [],
   "source": [
    "import sqlite3"
   ]
  },
  {
   "cell_type": "code",
   "execution_count": 2,
   "metadata": {},
   "outputs": [
    {
     "data": {
      "text/plain": [
       "<sqlite3.Connection at 0x1b0b87888b0>"
      ]
     },
     "execution_count": 2,
     "metadata": {},
     "output_type": "execute_result"
    }
   ],
   "source": [
    "connection = sqlite3.connect('example.db')\n",
    "connection"
   ]
  },
  {
   "cell_type": "code",
   "execution_count": 3,
   "metadata": {},
   "outputs": [],
   "source": [
    "cursor = connection.cursor()"
   ]
  },
  {
   "cell_type": "code",
   "execution_count": 5,
   "metadata": {},
   "outputs": [],
   "source": [
    "cursor.execute('''\n",
    "Create Table If Not exists employees(\n",
    "               id Integer Primary key,\n",
    "               name Text Not Null,\n",
    "               age Integer,\n",
    "               department text\n",
    "               )\n",
    "\n",
    "''')\n",
    "\n",
    "\n",
    "## commit the changes\n",
    "connection.commit()"
   ]
  },
  {
   "cell_type": "code",
   "execution_count": 6,
   "metadata": {},
   "outputs": [
    {
     "data": {
      "text/plain": [
       "<sqlite3.Cursor at 0x1b0b897d640>"
      ]
     },
     "execution_count": 6,
     "metadata": {},
     "output_type": "execute_result"
    }
   ],
   "source": [
    "cursor.execute('''\n",
    "select * from employees\n",
    "\n",
    "''')"
   ]
  },
  {
   "cell_type": "code",
   "execution_count": 19,
   "metadata": {},
   "outputs": [
    {
     "data": {
      "text/plain": [
       "<sqlite3.Cursor at 0x1b0b897d640>"
      ]
     },
     "execution_count": 19,
     "metadata": {},
     "output_type": "execute_result"
    }
   ],
   "source": [
    "## Insert the data in sqllite table\n",
    "cursor.execute(\n",
    "    '''\n",
    "insert into employees(name,age,department) Values('abdul',45,'MBA')\n",
    "'''\n",
    ")\n",
    "\n",
    "cursor.execute(\n",
    "    '''\n",
    "insert into employees(name,age,department) Values('bob',36,'Data Engineer')\n",
    "'''\n",
    ")\n",
    "\n",
    "cursor.execute(\n",
    "    '''\n",
    "insert into employees(name,age,department) Values('chitti',24,'Finance')\n",
    "'''\n",
    ")"
   ]
  },
  {
   "cell_type": "code",
   "execution_count": 20,
   "metadata": {},
   "outputs": [],
   "source": [
    "connection.commit()"
   ]
  },
  {
   "cell_type": "code",
   "execution_count": 21,
   "metadata": {},
   "outputs": [
    {
     "name": "stdout",
     "output_type": "stream",
     "text": [
      "(1, 'krish', 34, 'Data Scientist')\n",
      "(2, 'abdul', 45, 'MBA')\n",
      "(4, 'chitti', 24, 'Finance')\n",
      "(5, 'abdul', 45, 'MBA')\n",
      "(6, 'bob', 36, 'Data Engineer')\n",
      "(7, 'chitti', 24, 'Finance')\n"
     ]
    }
   ],
   "source": [
    "### Query the data from the table\n",
    "\n",
    "cursor.execute('''\n",
    "select * from employees\n",
    "''')\n",
    "rows = cursor.fetchall()\n",
    "\n",
    "## print the queried data\n",
    "for row in rows:\n",
    "    print(row)"
   ]
  },
  {
   "cell_type": "code",
   "execution_count": 15,
   "metadata": {},
   "outputs": [],
   "source": [
    "#Update the data into the table\n",
    "cursor.execute('''update employees set age = 34 where name = 'krish'\n",
    "               ''') \n",
    "connection.commit()"
   ]
  },
  {
   "cell_type": "code",
   "execution_count": 17,
   "metadata": {},
   "outputs": [],
   "source": [
    "## delete the data\n",
    "cursor.execute('''delete from employees where name = 'bob'\n",
    "               ''') \n",
    "connection.commit()"
   ]
  },
  {
   "cell_type": "code",
   "execution_count": 23,
   "metadata": {},
   "outputs": [],
   "source": [
    "## executemany statement\n",
    "\n",
    "data = [\n",
    "    ( 'krish', 34, 'Data Scientist'),\n",
    "( 'abdul', 45, 'MBA'),\n",
    "( 'chitti', 24, 'Finance'),\n",
    "( 'abdul', 45, 'MBA'),\n",
    "( 'bob', 36, 'Data Engineer'),\n",
    "('chitti', 24, 'Finance')\n",
    "]\n",
    "\n",
    "cursor.executemany('''\n",
    "insert into employees(name,age,department) values (?,?,?)\n",
    "''',data)\n",
    "\n",
    "connection.commit()"
   ]
  },
  {
   "cell_type": "code",
   "execution_count": 24,
   "metadata": {},
   "outputs": [
    {
     "name": "stdout",
     "output_type": "stream",
     "text": [
      "(1, 'krish', 34, 'Data Scientist')\n",
      "(2, 'abdul', 45, 'MBA')\n",
      "(4, 'chitti', 24, 'Finance')\n",
      "(5, 'abdul', 45, 'MBA')\n",
      "(6, 'bob', 36, 'Data Engineer')\n",
      "(7, 'chitti', 24, 'Finance')\n",
      "(8, 'krish', 34, 'Data Scientist')\n",
      "(9, 'abdul', 45, 'MBA')\n",
      "(10, 'chitti', 24, 'Finance')\n",
      "(11, 'abdul', 45, 'MBA')\n",
      "(12, 'bob', 36, 'Data Engineer')\n",
      "(13, 'chitti', 24, 'Finance')\n"
     ]
    }
   ],
   "source": [
    "### Query the data from the table\n",
    "\n",
    "cursor.execute('''\n",
    "select * from employees\n",
    "''')\n",
    "rows = cursor.fetchall()\n",
    "\n",
    "## print the queried data\n",
    "for row in rows:\n",
    "    print(row)"
   ]
  },
  {
   "cell_type": "code",
   "execution_count": 25,
   "metadata": {},
   "outputs": [],
   "source": [
    "connection.close()"
   ]
  }
 ],
 "metadata": {
  "kernelspec": {
   "display_name": "krishenv",
   "language": "python",
   "name": "python3"
  },
  "language_info": {
   "codemirror_mode": {
    "name": "ipython",
    "version": 3
   },
   "file_extension": ".py",
   "mimetype": "text/x-python",
   "name": "python",
   "nbconvert_exporter": "python",
   "pygments_lexer": "ipython3",
   "version": "3.12.0"
  }
 },
 "nbformat": 4,
 "nbformat_minor": 2
}
