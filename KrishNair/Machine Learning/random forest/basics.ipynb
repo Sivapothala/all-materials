{
 "cells": [
  {
   "cell_type": "markdown",
   "metadata": {},
   "source": [
    "### Bagging & Boosting"
   ]
  },
  {
   "cell_type": "markdown",
   "metadata": {
    "vscode": {
     "languageId": "plaintext"
    }
   },
   "source": [
    "### Ensamble Techniques\n",
    "\n",
    "- Bagging\n",
    "    - Base Learners\n",
    "    - Random Forest\n",
    "    - parallel connection\n",
    "    - train the data to the models parallelly\n",
    "    - uses different N models\n",
    "    - when New prediction neeeded take the Majority for classification and average for Regression\n",
    "- Boosting\n",
    "    - tirupati coin filtering\n",
    "    - connected in series connection\n",
    "    - Connection of Weak learners to form strong learner.\n",
    "    - when New prediction neeeded take the Majority for classification and average for Regression\n"
   ]
  },
  {
   "cell_type": "markdown",
   "metadata": {},
   "source": [
    "### Random Forest Classification & Regression\n",
    "- D is the size of Dataset\n",
    "- N is No of Features.\n",
    "- example of bagging\n",
    "- all the models are decision Trees.\n",
    "- Row Sampling with replacement + column Sampling with replacement\n",
    "\n",
    "\n"
   ]
  },
  {
   "cell_type": "markdown",
   "metadata": {},
   "source": []
  }
 ],
 "metadata": {
  "language_info": {
   "name": "python"
  }
 },
 "nbformat": 4,
 "nbformat_minor": 2
}
