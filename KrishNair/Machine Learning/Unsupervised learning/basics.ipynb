{
 "cells": [
  {
   "cell_type": "markdown",
   "metadata": {},
   "source": [
    "### Unsupervised Learning\n",
    "- Clustering\n",
    "    - k-Means \n",
    "    - hierarchal \n",
    "    - Dbscan\n",
    "    - Silhoutte"
   ]
  },
  {
   "cell_type": "markdown",
   "metadata": {},
   "source": [
    "### Principal Component Analysis\n",
    "\n",
    "1. Curse of Dimensionality\n",
    "    - Feature selection\n",
    "    - Feature extraction\n",
    "\n",
    "2. why dimensionality reduction\n",
    "    - prevent cures of dimensionality\n",
    "    - improve the performance of the model\n",
    "    - vizualize the data -> understand the data\n",
    "3. Feature selection\n",
    "    - relation \n",
    "        - covariance -ve or +ve or 0\n",
    "        - pearson co-relation -1 to +1\n",
    "4. Eigen decomposition on matrix\n",
    "    - standardize the data\n",
    "    - find the co-variance matrix\n",
    "    - find out eigen vectors and values\n",
    "    \n"
   ]
  },
  {
   "cell_type": "markdown",
   "metadata": {},
   "source": []
  }
 ],
 "metadata": {
  "language_info": {
   "name": "python"
  }
 },
 "nbformat": 4,
 "nbformat_minor": 2
}
