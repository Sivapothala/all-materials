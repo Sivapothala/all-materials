{
 "cells": [
  {
   "cell_type": "markdown",
   "metadata": {},
   "source": [
    "### K- Nearest Neighbour\n",
    "- Uses\n",
    "    - Classification\n",
    "    - regression\n",
    "- Execution\n",
    "    - classification\n",
    "        - we have to initialize the k-value k>0 k is hyperparameter.\n",
    "        - we have to calculate the distance between the new data point and all the data points.\n",
    "        - we have to sort the distances in ascending order.\n",
    "        - From those values take k values and find which class are high.\n",
    "        - Distance Metrics\n",
    "            - Euclidian Distance\n",
    "            - manhatten Distance\n",
    "    - Regression\n",
    "        - take the Distance of k nearest Neighbours.\n",
    "        - take all the k values Average / Median.\n",
    "- DisAdvantages\n",
    "    - Time Complexity => O(N)\n",
    "    - Need to calculate the Distance to all points every time.\n",
    "    - Optimization \n",
    "        - KD Tree\n",
    "        - Ball Tree\n",
    "        \n"
   ]
  },
  {
   "cell_type": "markdown",
   "metadata": {},
   "source": [
    "### KD Tree\n",
    "- Process\n",
    "    - take the Features and Check the Median of one feature and divide them with that region in one axis.\n",
    "    - take another feature and Divide them in that axis.\n",
    "    - Continue the process until all the points got divided.\n",
    "    - when New point comes then it will check in the Tree and Find the nearest Neighbours using back tracking.\n",
    "    "
   ]
  },
  {
   "cell_type": "markdown",
   "metadata": {
    "vscode": {
     "languageId": "plaintext"
    }
   },
   "source": [
    "### Ball Tree\n",
    "\n",
    "- Process\n",
    "    - Group the Points into small balls.\n",
    "    - Group the nearest Groups\n",
    "    - Continue till One Group.\n",
    "    - when New Point Comes Calculate the Distance to all the points in that Group.\n",
    "    "
   ]
  }
 ],
 "metadata": {
  "language_info": {
   "name": "python"
  }
 },
 "nbformat": 4,
 "nbformat_minor": 2
}
