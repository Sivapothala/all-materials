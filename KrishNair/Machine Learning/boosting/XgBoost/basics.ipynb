{
 "cells": [
  {
   "cell_type": "markdown",
   "metadata": {},
   "source": [
    "### Xg boost Classification\n",
    "\n",
    "- steps\n",
    "    - construct a base model\n",
    "    - classification - prob - 0.5\n",
    "    - regression - average\n",
    "    - calculate the residual \n",
    "    - construct a decision tree with root\n",
    "    - calculate the similarity weight => ∑ (residuals)^2 / ∑Pr(1-Pr) + ⋋\n",
    "    - calculate the Gain\n",
    "    - log(odds) = log(p/1-p)\n",
    "    - we we stop tree growing we can get that by ∑Pr(1-Pr) (Cover value) if similarity weight is less than this we will stop the further split\n",
    "\n"
   ]
  },
  {
   "cell_type": "markdown",
   "metadata": {},
   "source": [
    "### Xg boost Regression\n",
    "- steps\n",
    "    - construct a base model\n",
    "    - regression - average\n",
    "    - calculate the residual \n",
    "    - construct a decision tree with root\n",
    "    - calculate the similarity weight => ∑ (residuals)^2 / noofresiduals + ⋋\n",
    "    - calculate the Gain\n",
    "    - log(odds) = log(p/1-p)\n",
    "    - we we stop tree growing we can get that by ∑Pr(1-Pr) (Cover value) if similarity weight is less than this we will stop the further split\n"
   ]
  }
 ],
 "metadata": {
  "language_info": {
   "name": "python"
  }
 },
 "nbformat": 4,
 "nbformat_minor": 2
}
