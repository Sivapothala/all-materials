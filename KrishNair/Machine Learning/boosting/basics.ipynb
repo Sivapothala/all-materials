{
 "cells": [
  {
   "cell_type": "markdown",
   "metadata": {},
   "source": [
    "#### Boosting \n",
    "- Sequence of weak learners\n",
    "- haven't learnt muc about from the training dataset.\n",
    "- Adaboost\n",
    "    - Assign weights to the weak learners.\n",
    "    - f = ∝1(m1)+∝2(m2)+∝3(m3)+∝3(m4)+ ..... ∝n-1(m n-1)+∝n(m n)\n",
    "    - m1,m2,m3,....,mn => decision tree stumps\n",
    "    - ∝1,∝2,∝3...   => weights\n",
    "    - we can solve classification and regression problems\n",
    "    - it is having decisions tree of stump of level 1\n",
    "    "
   ]
  }
 ],
 "metadata": {
  "language_info": {
   "name": "python"
  }
 },
 "nbformat": 4,
 "nbformat_minor": 2
}
