{
 "cells": [
  {
   "cell_type": "markdown",
   "metadata": {},
   "source": [
    "### Gradient Bossting\n",
    "- solves bothe classification and regression use cases\n",
    "- Steps \n",
    "    - create a base model -(like just create a model which gives average of values as output irrespective of input)\n",
    "    - Compute the residuals and error\n",
    "    - res = Yi-Ypred\n",
    "    - Construct a decision tree considering inputs Xi and output is res (r1)\n",
    "    - again calculate the residual for the newly trained model.\n",
    "    - repeat this again\n",
    "    - F(x) =∝0h0+ ∝1(h1)+∝2(h2)+∝3(h3)+∝3(h4)+ ..... ∝n-1(h n-1)+∝n(h n)\n",
    "    - ∝ - learning rate\n",
    "    - ∑∝ihi i = 0 to n\n"
   ]
  },
  {
   "cell_type": "markdown",
   "metadata": {},
   "source": []
  }
 ],
 "metadata": {
  "kernelspec": {
   "display_name": "krishenv",
   "language": "python",
   "name": "python3"
  },
  "language_info": {
   "name": "python",
   "version": "3.12.0"
  }
 },
 "nbformat": 4,
 "nbformat_minor": 2
}
