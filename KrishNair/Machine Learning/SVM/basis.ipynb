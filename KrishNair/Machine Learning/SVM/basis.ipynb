{
 "cells": [
  {
   "cell_type": "markdown",
   "metadata": {},
   "source": [
    "### Support vector machine\n",
    "\n",
    "- support vector classifier\n",
    "- support vector regressor\n",
    "\n",
    "- svc\n",
    "    - marginal plane \n",
    "    - d => distance between marginal plains\n",
    "    - support vectors => points on the marginal plane\n",
    "\n",
    "    - Soft Margin\n",
    "        - we cannot get the perfect line along the marginal line that seperates the points clearly.\n",
    "    - hard margin\n",
    "        - \n",
    "    \n",
    "    - d (distance) -> -ve below the plane\n",
    "    - d -> +ve above the plane\n",
    "\n",
    "    - Cost Function\n",
    "        - 2 / || W || => distance between marginal plane\n",
    "\n",
    "    - maximize 2 / || W || ==> minimize || W ||/2 + Cj ∑£ (Hinge Loss)\n",
    "    - Cj -> No of points we want to avoid misclassification\n",
    "    - £ => Summation of the distance of incorrect data points from the marginal plane.\n",
    "\n",
    "- SVR\n",
    "    - Constraints :\n",
    "        - |Yi - WiXi| <= €\n",
    "    - Epsilon -> margin Error\n",
    "    - ita -> Error above the margin line\n",
    "\n",
    "- SVM Kernels\n",
    "    - polynomial \n",
    "    - RBF\n",
    "    - Sigmoid\n",
    "    - Tan\n"
   ]
  }
 ],
 "metadata": {
  "language_info": {
   "name": "python"
  }
 },
 "nbformat": 4,
 "nbformat_minor": 2
}
