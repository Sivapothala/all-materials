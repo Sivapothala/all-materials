{
 "cells": [
  {
   "cell_type": "markdown",
   "metadata": {},
   "source": [
    "### What is Docker ?\n",
    "- Docker is a containerization platform that allows developers to package, ship, and run applications in containers"
   ]
  },
  {
   "cell_type": "markdown",
   "metadata": {
    "vscode": {
     "languageId": "plaintext"
    }
   },
   "source": [
    "### What are Containers ..?\n",
    "- Containers is a way to package applications with all the necessary dependencies and configurations.\n",
    "- portable artifact, easily share and move this package to any environment.\n",
    "- makes the development and deployment easy and efficeintly in sync.\n",
    "\n",
    "\n"
   ]
  },
  {
   "cell_type": "markdown",
   "metadata": {
    "vscode": {
     "languageId": "plaintext"
    }
   },
   "source": [
    "### Docker image Vs Containers\n",
    "|Docker Image|COntainers|\n",
    "|--|--|\n",
    "||Layer of images|\n",
    "||linux is the base image|\n",
    "|all the layers of image combined is called Docker Image|when you run the docker img it will create a container (environment)|\n",
    "|package or artifact& move or share the artifact |Docker img => run => start the app => Create the container|\n",
    "||can be consider as environment|\n"
   ]
  },
  {
   "cell_type": "markdown",
   "metadata": {},
   "source": [
    "### Containers Vs Virtual Machines\n",
    "- Similarities\n",
    "\n",
    "\n",
    "|Docker|VM|\n",
    "|--|--|\n",
    "|Docker images will be virtualzing the application layer | VM virtualizes both application layer and OS Kernel layer|\n",
    "|Docker images are lightweight and fast to spin up | VMs are heavy and slow to spin|\n",
    "|Docker images are portable across different environments | VMs are not portable across different environments|\n",
    "|Docker images are isolated from each other | VMs are isolated from each other|\n",
    "\n",
    "- Differences\n",
    "\n",
    "\n",
    "|Docker|VM|\n",
    "|--|--|\n",
    "|Docker is a containerization tool| while VMs are a virtualization tool.|\n",
    "|Docker uses the host OS kernel| while VMs run their own OS kernel.|\n",
    "|Docker images are not a full OS| while VMs are a full OS.|\n",
    "|Docker images are faster to spin up and tear down| while VMs are slower.|\n",
    "|Docker images are more lightweight| while VMs are heavier.|\n",
    "|may be compatibility issue |install vm on any machine|                          \n"
   ]
  },
  {
   "cell_type": "markdown",
   "metadata": {
    "vscode": {
     "languageId": "plaintext"
    }
   },
   "source": [
    "### Commands\n",
    "docker run -d -p 80:80 docker/getting-started\n",
    "- -d running in detach mode\n",
    "- -p assigning port value\n",
    "- first 80 ->host env port\n",
    "- second -> container port\n",
    "\n",
    "docker images\n",
    "- to get all the list of images\n",
    "docker ps\n",
    "- to get all the list of running containers\n",
    "docker stop <container_id>\n",
    "- to stop the container\n",
    "docker rm <container_id>\n",
    "- to remove the container\n",
    "docker exec -it <container_id> bash\n",
    "- to get into the container and run bash command\n",
    "docker logs -f <container_id>\n",
    "- to get the logs of the container\n",
    "to remove the image\n",
    "- docker rmi <image_id> or docker rmi -f <image_id> or docker r\n"
   ]
  },
  {
   "cell_type": "markdown",
   "metadata": {},
   "source": [
    "### Creating a docker image\n"
   ]
  }
 ],
 "metadata": {
  "language_info": {
   "name": "python"
  }
 },
 "nbformat": 4,
 "nbformat_minor": 2
}
