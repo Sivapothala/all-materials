{
 "cells": [
  {
   "cell_type": "markdown",
   "metadata": {},
   "source": [
    "### What is Docker ?\n",
    "- Docker is a containerization platform that allows developers to package, ship, and run applications in containers"
   ]
  },
  {
   "cell_type": "markdown",
   "metadata": {
    "vscode": {
     "languageId": "plaintext"
    }
   },
   "source": [
    "### What are Containers ..?\n",
    "- Containers is a way to package applications with all the necessary dependencies and configurations.\n",
    "- portable artifact, easily share and move this package to any environment.\n",
    "- makes the development and deployment easy and efficeintly in sync.\n",
    "\n",
    "\n"
   ]
  },
  {
   "cell_type": "markdown",
   "metadata": {
    "vscode": {
     "languageId": "plaintext"
    }
   },
   "source": [
    "### Docker image Vs Containers\n",
    "|Docker Image|Containers|\n",
    "|--|--|\n",
    "||Layer of images|\n",
    "||linux is the base image|\n",
    "|all the layers of image combined is called Docker Image|when you run the docker img it will create a container (environment)|\n",
    "|package or artifact& move or share the artifact |Docker img => run => start the app => Create the container|\n",
    "||can be consider as environment|\n"
   ]
  },
  {
   "cell_type": "markdown",
   "metadata": {},
   "source": [
    "### Containers Vs Virtual Machines\n",
    "- Similarities\n",
    "\n",
    "\n",
    "|Docker|VM|\n",
    "|--|--|\n",
    "|Docker images will be virtualzing the application layer | VM virtualizes both application layer and OS Kernel layer|\n",
    "|Docker images are lightweight and fast to spin up | VMs are heavy and slow to spin|\n",
    "|Docker images are portable across different environments | VMs are not portable across different environments|\n",
    "|Docker images are isolated from each other | VMs are isolated from each other|\n",
    "\n",
    "- Differences\n",
    "\n",
    "\n",
    "|Docker|VM|\n",
    "|--|--|\n",
    "|Docker is a containerization tool| while VMs are a virtualization tool.|\n",
    "|Docker uses the host OS kernel| while VMs run their own OS kernel.|\n",
    "|Docker images are not a full OS| while VMs are a full OS.|\n",
    "|Docker images are faster to spin up and tear down| while VMs are slower.|\n",
    "|Docker images are more lightweight| while VMs are heavier.|\n",
    "|may be compatibility issue |install vm on any machine|                          \n"
   ]
  },
  {
   "cell_type": "markdown",
   "metadata": {
    "vscode": {
     "languageId": "plaintext"
    }
   },
   "source": [
    "### Commands\n",
    "docker run -d -p 80:80 docker/getting-started\n",
    "- -d running in detach mode\n",
    "- -p assigning port value\n",
    "- first 80 ->host env port\n",
    "- second -> container port\n",
    "\n",
    "docker images\n",
    "- to get all the list of images\n",
    "\n",
    "docker ps\n",
    "- to get all the list of running containers\n",
    "\n",
    "docker stop <container_id>\n",
    "- to stop the container\n",
    "\n",
    "docker rm <container_id>\n",
    "- to remove the container\n",
    "\n",
    "docker exec -it <container_id> bash\n",
    "- to get into the container and run bash command\n",
    "\n",
    "docker logs -f <container_id>\n",
    "- to get the logs of the container\n",
    "\n",
    "to remove the image\n",
    "- docker rmi <image_id> or docker rmi -f <image_id> or docker r\n"
   ]
  },
  {
   "cell_type": "markdown",
   "metadata": {},
   "source": [
    "### Creating a docker image\n",
    "To create a docker image, you need to create a Dockerfile that contains the instructions for building the \n",
    "image. Here is an example of a Dockerfile for a simple Python application:\n",
    "\n",
    "- create a simple flask app\n",
    "- install the required packages\n",
    "- mention the packages in requirement.txt\n",
    "- write the commands in dockerfile\n",
    "    - FROM python:3.8-alpine -- for pulling the dockerimage\n",
    "    - COPY . /app  -- for copying all the files into app directory.\n",
    "    - WORKDIR /app -- creating a working dir\n",
    "    - RUN pip install -r requirement.txt -- to install all the requirements\n",
    "    - CMD python app.py -- to run the application.\n",
    "- docker build -t welcome-app .-- to create the dockerimage\n",
    "- when you want to push the docker images to dockerhub create the image with username/ image-name\n",
    "- you can change the name of image using \n",
    "    - deleting the existing image and rebuild\n",
    "    - or using tag command\n",
    "    - docker tag sivapothala/welcome-app sivapothala/welcome-app1\n",
    "    - it will create an another repo with different name.\n",
    "    - docker push sivapothala/welcome-app:latest(tag) -- to push the dockerimage"
   ]
  },
  {
   "cell_type": "markdown",
   "metadata": {},
   "source": [
    "### Docker Compose\n",
    "- tool for defining and running multi-container docker applications.\n",
    "- It allows you to define a configuration file in YAML or JSON format that describes the services, networks\n",
    "- we create a docker-compose.yml file."
   ]
  }
 ],
 "metadata": {
  "language_info": {
   "name": "python"
  }
 },
 "nbformat": 4,
 "nbformat_minor": 2
}
