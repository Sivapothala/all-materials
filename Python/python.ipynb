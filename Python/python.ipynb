{
 "cells": [
  {
   "cell_type": "code",
   "execution_count": 1,
   "id": "d599aae3-a2c5-49f1-aadb-78380c73a36d",
   "metadata": {},
   "outputs": [
    {
     "name": "stdout",
     "output_type": "stream",
     "text": [
      "hello world\n"
     ]
    }
   ],
   "source": [
    "print(\"hello world\")"
   ]
  },
  {
   "cell_type": "markdown",
   "id": "402389fa-e8f9-4687-ab90-79dcf4ccdcfc",
   "metadata": {},
   "source": [
    "A defaultdict is like a regular dictionary, except that when you try to look up a key it doesn’t contain, it first adds a value for it using a zero\n",
    "argument function"
   ]
  },
  {
   "cell_type": "code",
   "execution_count": 3,
   "id": "f9d95258-b5a5-4391-ba28-7c70735c8b8c",
   "metadata": {},
   "outputs": [
    {
     "data": {
      "text/plain": [
       "defaultdict(int, {'a': 1, 'v': 2})"
      ]
     },
     "execution_count": 3,
     "metadata": {},
     "output_type": "execute_result"
    }
   ],
   "source": [
    "from collections import defaultdict \n",
    "word_counts = defaultdict(int)    \n",
    "document =[\"a\",\"v\",\"v\"]\n",
    "for word in document: \n",
    "    word_counts[word] += 1\n",
    "word_counts"
   ]
  },
  {
   "cell_type": "code",
   "execution_count": 4,
   "id": "2ff81861-8a3e-4224-bb34-235a3dcf4400",
   "metadata": {},
   "outputs": [
    {
     "data": {
      "text/plain": [
       "Counter({0: 2, 1: 1, 2: 1})"
      ]
     },
     "execution_count": 4,
     "metadata": {},
     "output_type": "execute_result"
    }
   ],
   "source": [
    "from collections import Counter \n",
    "c = Counter([0, 1, 2, 0]) \n",
    "c"
   ]
  },
  {
   "cell_type": "code",
   "execution_count": 9,
   "id": "5b3a4537-8c17-4061-83b1-b4762de3639c",
   "metadata": {},
   "outputs": [
    {
     "name": "stdout",
     "output_type": "stream",
     "text": [
      "0 2\n",
      "1 1\n",
      "2 1\n"
     ]
    }
   ],
   "source": [
    "#for most common values. we can use the most-common values.\n",
    "\n",
    "for word, count in c.most_common(10): \n",
    "    print(word, count)"
   ]
  },
  {
   "cell_type": "code",
   "execution_count": 10,
   "id": "1d4bbf1a-1a61-4e92-8724-7f1cdb020638",
   "metadata": {},
   "outputs": [],
   "source": [
    "word_counts=c"
   ]
  },
  {
   "cell_type": "code",
   "execution_count": 13,
   "id": "caf0cc4d-3142-4878-9521-fb408128ad6a",
   "metadata": {},
   "outputs": [
    {
     "data": {
      "text/plain": [
       "[(0, 2), (1, 1), (2, 1)]"
      ]
     },
     "execution_count": 13,
     "metadata": {},
     "output_type": "execute_result"
    }
   ],
   "source": [
    "wc = sorted(word_counts.items(), \n",
    "key= lambda word_and_count: word_and_count[1], \n",
    "reverse=True)\n",
    "wc\n"
   ]
  },
  {
   "cell_type": "markdown",
   "id": "8a5b9a7d-f091-4abf-9200-5ac58ea44cdf",
   "metadata": {},
   "source": [
    "# Object Oriented Programming"
   ]
  },
  {
   "cell_type": "markdown",
   "id": "9d83aefd-4fae-4701-a855-365cad259432",
   "metadata": {},
   "source": [
    "__init__\n",
    " method name starts and ends with double\n",
    " underscores. These “magic” methods are sometimes called “dunder”\n",
    " methods (double-UNDERscore, get it?) and represent “special” behaviors."
   ]
  },
  {
   "cell_type": "markdown",
   "id": "e76a6899-41a7-472e-b55f-2e2f075966c4",
   "metadata": {},
   "source": [
    "Another such method is \n",
    "__repr__\n",
    " , which produces the string representation\n",
    " of a class instance:"
   ]
  },
  {
   "cell_type": "code",
   "execution_count": 15,
   "id": "9818203c-0fa0-4795-a786-418c65ab680f",
   "metadata": {},
   "outputs": [],
   "source": [
    "def __repr__(self): \n",
    "    return f\"CountingClicker(count={self.count})\""
   ]
  },
  {
   "cell_type": "code",
   "execution_count": 26,
   "id": "2934f995-20eb-4658-a0e2-d3717df62908",
   "metadata": {},
   "outputs": [],
   "source": [
    "class ClickCounter: #PascelCase\n",
    "    def __init__(self,count=0):\n",
    "        print(\"df\")\n",
    "        self.count = count\n",
    "    def click(self, num_times = 1): \n",
    "        \"\"\" Click the clicker some number of times.\"\"\" \n",
    "        self.count += num_times \n",
    "    def read(self): \n",
    "        return self.count     \n",
    "    def reset(self): \n",
    "        self.count = 0    \n",
    "        \n",
    "    "
   ]
  },
  {
   "cell_type": "code",
   "execution_count": 27,
   "id": "df5e45ab-c17a-476b-b1ee-745fe4b06df0",
   "metadata": {},
   "outputs": [
    {
     "name": "stdout",
     "output_type": "stream",
     "text": [
      "df\n"
     ]
    }
   ],
   "source": [
    "myclick = ClickCounter()"
   ]
  },
  {
   "cell_type": "code",
   "execution_count": 33,
   "id": "c02f66c3-a81c-4f99-87fb-a5ab7c39bfb3",
   "metadata": {},
   "outputs": [
    {
     "data": {
      "text/plain": [
       "2"
      ]
     },
     "execution_count": 33,
     "metadata": {},
     "output_type": "execute_result"
    }
   ],
   "source": [
    "myclick.read()"
   ]
  },
  {
   "cell_type": "code",
   "execution_count": 32,
   "id": "49858290-379c-47e3-acf8-f0d0eb3a6a07",
   "metadata": {},
   "outputs": [],
   "source": [
    "myclick.click()"
   ]
  },
  {
   "cell_type": "markdown",
   "id": "e07ce11d-8521-467c-962c-84d702ecadee",
   "metadata": {},
   "source": [
    "Generators are a powerful way to create iterable sequences of values in Python. Unlike lists, which store all their elements in memory, generators produce values on-the-fly as you iterate over them. This makes them memory-efficient and suitable for large data sets or infinite sequences.\n",
    "\n",
    "Here’s how you can create a generator using the yield keyword:\n",
    "\n",
    "Generator Functions:\n",
    "A generator function is defined like any other function, but instead of using return, it uses yield.\n",
    "When a generator function is called, it doesn’t execute immediately. Instead, it returns a generator object.\n",
    "The function’s execution is paused at each yield statement, and the yielded value is returned to the caller.\n",
    "The next time you iterate over the generator (e.g., using a for loop), the function resumes execution from where it left off.\n",
    "Example:\n",
    "Python\n",
    "\n",
    "def count_up_to(n):\n",
    "    i = 1\n",
    "    while i <= n:\n",
    "        yield i\n",
    "        i += 1\n",
    "\n",
    "Benefits of Generators:\n",
    "Memory efficiency: Generators don’t store all values in memory simultaneously.\n",
    "Laziness: Values are generated on-demand, which is useful for large data or infinite sequences.\n",
    "Iteration: You can use generators in for loops, comprehensions, and other iterable contexts.\n",
    "Remember, generators are a powerful tool for efficient and lazy computation. Use them when you want to avoid loading all data into memory at once or when dealing with large datasets. 🌟\n",
    "\n",
    "With a generator, you can even create an infinite sequence:\n",
    "def natural_numbers(): \n",
    "\"\"\"returns 1, 2, 3, ...\"\"\" \n",
    "n = 1 \n",
    "while True: \n",
    "    yield n \n",
    "    n += 1\n",
    "\n",
    "you can only iterate through a generator once.\n",
    "\n",
    " need to iterate through something multiple times, you’ll need to either re-create the\n",
    " generator each time or use a list.\n",
    " "
   ]
  },
  {
   "cell_type": "code",
   "execution_count": 35,
   "id": "3f543b7e-b1d8-4906-a101-ad77a8fe9efa",
   "metadata": {},
   "outputs": [
    {
     "name": "stdout",
     "output_type": "stream",
     "text": [
      "name 0 is 0\n",
      "name 1 is 1\n",
      "name 2 is 2\n"
     ]
    }
   ],
   "source": [
    "# Pythonic \n",
    "names = c\n",
    "for i, name in enumerate(names): \n",
    "    print(f\"name {i} is {name}\")"
   ]
  },
  {
   "cell_type": "markdown",
   "id": "5d5580c4-fb0a-4d85-88f3-5f5c4df2c2df",
   "metadata": {},
   "source": [
    "#  Randomness"
   ]
  },
  {
   "cell_type": "code",
   "execution_count": 36,
   "id": "cb5668ab-d67c-4f2e-b090-63782ae0cc13",
   "metadata": {},
   "outputs": [],
   "source": [
    "import random \n",
    "random.seed(10)  # this ensures we get the same results every time "
   ]
  },
  {
   "cell_type": "code",
   "execution_count": 39,
   "id": "26d1db0d-37a7-40bb-9a37-273c8af17521",
   "metadata": {},
   "outputs": [
    {
     "data": {
      "text/plain": [
       "6"
      ]
     },
     "execution_count": 39,
     "metadata": {},
     "output_type": "execute_result"
    }
   ],
   "source": [
    " random.randrange(10) # choose randomly from range(10) = [0, 1, ..., 9] "
   ]
  },
  {
   "cell_type": "code",
   "execution_count": 40,
   "id": "d2399c30-86e3-4af4-ada6-34d182568685",
   "metadata": {},
   "outputs": [
    {
     "data": {
      "text/plain": [
       "4"
      ]
     },
     "execution_count": 40,
     "metadata": {},
     "output_type": "execute_result"
    }
   ],
   "source": [
    "random.randrange(3, 6) # choose randomly from range(3, 6) = [3, 4, 5]"
   ]
  },
  {
   "cell_type": "code",
   "execution_count": 42,
   "id": "c14dbe93-a989-4452-9ae0-04ec84958cd6",
   "metadata": {},
   "outputs": [
    {
     "name": "stdout",
     "output_type": "stream",
     "text": [
      "[7, 9, 5, 8, 1, 3, 10, 4, 2, 6]\n"
     ]
    }
   ],
   "source": [
    "up_to_ten = [1, 2, 3, 4, 5, 6, 7, 8, 9, 10] \n",
    "random.shuffle(up_to_ten) \n",
    "print(up_to_ten) "
   ]
  },
  {
   "cell_type": "code",
   "execution_count": 44,
   "id": "3320d2dc-dfea-4a2d-b29d-448a87bdb033",
   "metadata": {},
   "outputs": [
    {
     "data": {
      "text/plain": [
       "'Bob'"
      ]
     },
     "execution_count": 44,
     "metadata": {},
     "output_type": "execute_result"
    }
   ],
   "source": [
    " my_best_friend = random.choice([\"Alice\", \"Bob\", \"Charlie\"]) \n",
    "my_best_friend"
   ]
  },
  {
   "cell_type": "code",
   "execution_count": 45,
   "id": "1538f4c6-ba5e-4fe7-b6c6-dc99e2e3573d",
   "metadata": {},
   "outputs": [
    {
     "data": {
      "text/plain": [
       "[18, 52, 43, 16, 29, 11]"
      ]
     },
     "execution_count": 45,
     "metadata": {},
     "output_type": "execute_result"
    }
   ],
   "source": [
    "lottery_numbers = range(60) \n",
    "winning_numbers = random.sample(lottery_numbers, 6)  # [16, 36, 10, 6, 25, 9]\n",
    "winning_numbers"
   ]
  },
  {
   "cell_type": "markdown",
   "id": "5020677d",
   "metadata": {},
   "source": [
    "#### Zipping"
   ]
  },
  {
   "cell_type": "code",
   "execution_count": 10,
   "id": "6c6be4b4",
   "metadata": {},
   "outputs": [
    {
     "data": {
      "text/plain": [
       "[('a', 1), ('b', 2), ('c', 3)]"
      ]
     },
     "execution_count": 10,
     "metadata": {},
     "output_type": "execute_result"
    }
   ],
   "source": [
    "list1 = ['a', 'b', 'c'] \n",
    "list2 = [1, 2, 3] \n",
    "[pair for pair in zip(list1, list2)]"
   ]
  },
  {
   "cell_type": "markdown",
   "id": "dea06946",
   "metadata": {},
   "source": [
    "#### UnZipping"
   ]
  },
  {
   "cell_type": "code",
   "execution_count": 9,
   "id": "5602a7d8-306b-417e-8d69-bbcc288854cd",
   "metadata": {},
   "outputs": [
    {
     "name": "stdout",
     "output_type": "stream",
     "text": [
      "('a', 'b', 'c')\n",
      "(1, 2, 3)\n",
      "(1, 1, 1)\n"
     ]
    }
   ],
   "source": [
    "pairs = [('a', 1,1), ('b', 2,1), ('c', 3,1)] \n",
    "letters, numbers,other = zip(*pairs)\n",
    "letters,numbers,other\n",
    "for i in zip(*pairs):\n",
    "    print(i)"
   ]
  },
  {
   "cell_type": "markdown",
   "id": "96d58954",
   "metadata": {},
   "source": [
    " \n",
    "args is a tuple of its unnamed arguments and kwargs is a dict of its named arguments. It works the other way too, if you want to use a list\n",
    "(or tuple ) and dict to supply arguments to a function:\n",
    "\n",
    "def other_way_magic(x, y, z): \n",
    "\n",
    "    return x + y + z \n",
    "\n",
    "x_y_list = [1, 2] \n",
    "\n",
    "z_dict = {\"z\": 3} \n",
    "\n",
    "assert other_way_magic(*x_y_list, **z_dict) == 6, \"1 + 2 + 3 should be 6\""
   ]
  },
  {
   "cell_type": "code",
   "execution_count": 12,
   "id": "aedb2ff1",
   "metadata": {},
   "outputs": [
    {
     "name": "stdout",
     "output_type": "stream",
     "text": [
      "cannot add an int to a string\n"
     ]
    }
   ],
   "source": [
    "def add(a, b): \n",
    "    return a + b \n",
    "assert add(10, 5) == 15       # \"+ is valid for numbers\" \n",
    "assert add([1, 2], [3]) == [1, 2, 3] #\"+ is valid for lists\"            \n",
    "assert add(\"hi \", \"there\") == \"hi there\" # \"+ is valid for strings\" \n",
    "try: \n",
    "    add(10, \"five\") \n",
    "except TypeError: \n",
    "    print(\"cannot add an int to a string\")"
   ]
  },
  {
   "cell_type": "code",
   "execution_count": 17,
   "id": "9090e230",
   "metadata": {},
   "outputs": [
    {
     "data": {
      "text/plain": [
       "'hithere'"
      ]
     },
     "execution_count": 17,
     "metadata": {},
     "output_type": "execute_result"
    }
   ],
   "source": [
    "def add2(a: int, b: int) -> int: \n",
    "    return a + b \n",
    "add2(10, 5)           \n",
    "# you'd like this to be OK \n",
    "add2(\"hi\", \"there\") "
   ]
  }
 ],
 "metadata": {
  "kernelspec": {
   "display_name": "Python 3 (ipykernel)",
   "language": "python",
   "name": "python3"
  },
  "language_info": {
   "codemirror_mode": {
    "name": "ipython",
    "version": 3
   },
   "file_extension": ".py",
   "mimetype": "text/x-python",
   "name": "python",
   "nbconvert_exporter": "python",
   "pygments_lexer": "ipython3",
   "version": "3.12.1"
  }
 },
 "nbformat": 4,
 "nbformat_minor": 5
}
